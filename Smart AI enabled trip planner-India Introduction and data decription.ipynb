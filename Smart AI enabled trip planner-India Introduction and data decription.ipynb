{
 "cells": [
  {
   "cell_type": "markdown",
   "metadata": {},
   "source": [
    "# Introduction"
   ]
  },
  {
   "cell_type": "markdown",
   "metadata": {},
   "source": [
    "Happyevents is a company in Delhi,India that manages events fo business tourists. The company has to put a good program, including a hotel ,a hall for meetings, places of landscape to visit, stores for shopping, restaurants and cafes. So this project is about taking input from a user in form of an Indian (metro) city and make a list of places of landscape in the selected metro city, including the nearest restaurants, cafes, and shopping hangouts"
   ]
  },
  {
   "cell_type": "markdown",
   "metadata": {},
   "source": [
    "## **Data Description**"
   ]
  },
  {
   "cell_type": "markdown",
   "metadata": {},
   "source": [
    "The data used in this project is provided by Foursquare location data. The data are grouped by landscape area, and each area included the information about this area and all information about restaurants, cafes, and stores which in this area."
   ]
  },
  {
   "cell_type": "markdown",
   "metadata": {},
   "source": [
    "### Define the city and get its latitude & longitude\n",
    "#### 01- Hotels search \n",
    "#### 02- Parks search\n",
    "#### 03- Restaurants search\n",
    "#### 04- Cafeteria search\n",
    "#### 05- Shopping stores search"
   ]
  },
  {
   "cell_type": "markdown",
   "metadata": {},
   "source": [
    "## Foursuare API attributes used"
   ]
  },
  {
   "cell_type": "markdown",
   "metadata": {},
   "source": [
    "Response objects:(venue.categories)\n",
    "\n",
    "### Name \n",
    "### Address\n",
    "### city\n",
    "### radius\n",
    "### postal code\n",
    "### state\n",
    "### latitude and longitude"
   ]
  },
  {
   "cell_type": "code",
   "execution_count": null,
   "metadata": {},
   "outputs": [],
   "source": []
  }
 ],
 "metadata": {
  "kernelspec": {
   "display_name": "Python 3",
   "language": "python",
   "name": "python3"
  },
  "language_info": {
   "codemirror_mode": {
    "name": "ipython",
    "version": 3
   },
   "file_extension": ".py",
   "mimetype": "text/x-python",
   "name": "python",
   "nbconvert_exporter": "python",
   "pygments_lexer": "ipython3",
   "version": "3.7.3"
  }
 },
 "nbformat": 4,
 "nbformat_minor": 2
}
